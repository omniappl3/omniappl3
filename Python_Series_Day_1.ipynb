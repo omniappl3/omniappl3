{
  "cells": [
    {
      "cell_type": "markdown",
      "metadata": {
        "id": "view-in-github",
        "colab_type": "text"
      },
      "source": [
        "<a href=\"https://colab.research.google.com/github/omniappl3/omniappl3/blob/main/Python_Series_Day_1.ipynb\" target=\"_parent\"><img src=\"https://colab.research.google.com/assets/colab-badge.svg\" alt=\"Open In Colab\"/></a>"
      ]
    },
    {
      "cell_type": "markdown",
      "metadata": {
        "id": "JbVT11Y8CbAu"
      },
      "source": [
        "# Welcome"
      ]
    },
    {
      "cell_type": "markdown",
      "metadata": {
        "id": "kw1B2R_WCU7X"
      },
      "source": [
        "Welcome to the first practical work of the week! In this practical, we will learn about the programming language Python.\n"
      ]
    },
    {
      "cell_type": "markdown",
      "metadata": {
        "id": "YV4sYCn8EPwb"
      },
      "source": [
        "# Notebooks"
      ]
    },
    {
      "cell_type": "markdown",
      "metadata": {
        "id": "2HuuwOcQEYQI"
      },
      "source": [
        "Today, we will use Jupyter notebooks and Google colab as the primary way to practice . Notebooks are a great way to mix executable code with rich contents. Colab allows to run notebooks on the cloud for free without any prior installation, while leveraging the power of [GPUs](https://en.wikipedia.org/wiki/Graphics_processing_unit)."
      ]
    },
    {
      "cell_type": "markdown",
      "metadata": {
        "id": "t0XmMkPuGGOs"
      },
      "source": [
        "The document that you are reading is not a static web page, but an interactive environment called a notebook, that lets you write and execute code. Notebooks consist of so-called code cells, blocks of one or more Python instructions. For example, here is a code cell that prints Python."
      ]
    },
    {
      "cell_type": "code",
      "execution_count": null,
      "metadata": {
        "colab": {
          "base_uri": "https://localhost:8080/"
        },
        "id": "qeGAvLq1ALJ4",
        "outputId": "9380d3e3-ba24-4951-ed15-c35c9225a91c"
      },
      "outputs": [
        {
          "output_type": "stream",
          "name": "stdout",
          "text": [
            "1\n"
          ]
        }
      ],
      "source": [
        "var = 1\n",
        "print(var)"
      ]
    },
    {
      "cell_type": "markdown",
      "metadata": {
        "id": "njoPs3q1G75-"
      },
      "source": [
        "Click on the \"play\" button to execute the cell. You should be able to see the result. Alternatively, you can also execute the cell by pressing Ctrl + Enter if you are on Windows / Linux or Command + Enter if you are on a Mac."
      ]
    },
    {
      "cell_type": "markdown",
      "metadata": {
        "id": "NvdYaBgHHdbw"
      },
      "source": [
        "Variables can be used to store the different values that can be defined in one cell can later be used in other cells as well:"
      ]
    },
    {
      "cell_type": "code",
      "execution_count": null,
      "metadata": {
        "colab": {
          "base_uri": "https://localhost:8080/"
        },
        "id": "s1kp5Zv0JBSx",
        "outputId": "d7b3bb7e-d9b0-450f-c7d3-2cd086e37f57"
      },
      "outputs": [
        {
          "output_type": "stream",
          "name": "stdout",
          "text": [
            "123\n"
          ]
        }
      ],
      "source": [
        "var = 123\n",
        "print (var)"
      ]
    },
    {
      "cell_type": "code",
      "execution_count": null,
      "metadata": {
        "colab": {
          "base_uri": "https://localhost:8080/"
        },
        "id": "m_2g-SLSsEH-",
        "outputId": "909dd16d-ab09-456e-df9b-9e81a3147323"
      },
      "outputs": [
        {
          "output_type": "execute_result",
          "data": {
            "text/plain": [
              "444"
            ]
          },
          "metadata": {},
          "execution_count": 6
        }
      ],
      "source": [
        "val = var + 321\n",
        "val"
      ]
    },
    {
      "cell_type": "markdown",
      "metadata": {
        "id": "uALfY4q1JFQ0"
      },
      "source": [
        "Note that the order of execution is important. For instance, if we do not run the cell storing *val* beforehand, the above cell will raise an error, as it depends on this variable. To make sure that you run all the cells in the correct order, you can also click on \"Runtime\" in the top-level menu, then \"Run all\"."
      ]
    },
    {
      "cell_type": "markdown",
      "metadata": {
        "id": "HvXs_KaoRWQ9"
      },
      "source": [
        "**Exercise.** Add a cell below this cell: click on this cell then click on \"+ Code\". In the new cell, store and print the value 456"
      ]
    },
    {
      "cell_type": "code",
      "source": [],
      "metadata": {
        "id": "ewgJzgU5a44H"
      },
      "execution_count": null,
      "outputs": []
    },
    {
      "cell_type": "code",
      "source": [
        "number1 = 376\n",
        "number2 = number1 + 80\n",
        "print (number2)"
      ],
      "metadata": {
        "colab": {
          "base_uri": "https://localhost:8080/"
        },
        "id": "h2CeQQuZh4Yb",
        "outputId": "8d7087b4-28aa-40a6-d1fa-779962dcaeb9"
      },
      "execution_count": null,
      "outputs": [
        {
          "output_type": "stream",
          "name": "stdout",
          "text": [
            "456\n"
          ]
        }
      ]
    },
    {
      "cell_type": "markdown",
      "metadata": {
        "id": "qyLSwlxnJqXX"
      },
      "source": [
        "# Python"
      ]
    },
    {
      "cell_type": "markdown",
      "metadata": {
        "id": "3ltwm91eJyQM"
      },
      "source": [
        "Python is one of the most popular programming languages for machine learning, both in academia and in industry. As such, it is essential to learn this language for anyone interested in machine learning. In this section, we will review Python basics."
      ]
    },
    {
      "cell_type": "markdown",
      "metadata": {
        "id": "3EKvP6jiMZ9H"
      },
      "source": [
        "## Arithmetic operations"
      ]
    },
    {
      "cell_type": "markdown",
      "metadata": {
        "id": "DDjs0-7YQ80h"
      },
      "source": [
        "Python supports the usual arithmetic operators: + (addition), * (multiplication), / (division), ** (power), // (integer division)."
      ]
    },
    {
      "cell_type": "markdown",
      "metadata": {
        "id": "UhcbBQUiStHG"
      },
      "source": [
        "## Data Types\n"
      ]
    },
    {
      "cell_type": "markdown",
      "metadata": {
        "id": "RkPn1IjNTCxA"
      },
      "source": [
        "In Python, data types are the classification or categorization of data items. They determine the type of value a variable can hold. Understanding data types is fundamental to programming in Python because they help you work with different kinds of data effectively."
      ]
    },
    {
      "cell_type": "markdown",
      "metadata": {
        "id": "8itO2lYJ2Oda"
      },
      "source": [
        "## **1. Numeric Datatypes**\n",
        "\n",
        "\n",
        "\n",
        "\n"
      ]
    },
    {
      "cell_type": "markdown",
      "metadata": {
        "id": "g3D_h_a32Odc"
      },
      "source": [
        " a) Integer (int)\n",
        "\n",
        "\n",
        "*   Used for whole numbers.\n",
        "*   Example: 10, -5, 0"
      ]
    },
    {
      "cell_type": "code",
      "execution_count": null,
      "metadata": {
        "colab": {
          "base_uri": "https://localhost:8080/"
        },
        "id": "gPh342NC2Odd",
        "outputId": "1f739c83-98f6-406f-d6d9-5b520bd3c7df"
      },
      "outputs": [
        {
          "output_type": "stream",
          "name": "stdout",
          "text": [
            "Type of x: <class 'int'>\n",
            "Type of y: <class 'int'>\n"
          ]
        }
      ],
      "source": [
        "# Example of int\n",
        "x = 10\n",
        "y = -5\n",
        "print(\"Type of x:\", type(x))\n",
        "print(\"Type of y:\", type(y))\n"
      ]
    },
    {
      "cell_type": "markdown",
      "metadata": {
        "id": "wKwycp162Odf"
      },
      "source": [
        "b) Float (float)\n",
        "\n",
        "*   Used for decimal (floating-point) numbers.\n",
        "*   Example: 10.5, -3.14, 0.0\n",
        "\n"
      ]
    },
    {
      "cell_type": "code",
      "execution_count": null,
      "metadata": {
        "id": "EHwdYBmh2Odg",
        "colab": {
          "base_uri": "https://localhost:8080/"
        },
        "outputId": "130d7620-a8fc-490f-b955-6c891ea2606e"
      },
      "outputs": [
        {
          "output_type": "stream",
          "name": "stdout",
          "text": [
            "Type of pi: <class 'float'>\n",
            "Type of radius: <class 'float'>\n"
          ]
        }
      ],
      "source": [
        "# Example of float\n",
        "pi = 3.14\n",
        "radius = 1.5\n",
        "print(\"Type of pi:\", type(pi))\n",
        "print(\"Type of radius:\", type(radius))\n"
      ]
    },
    {
      "cell_type": "markdown",
      "metadata": {
        "id": "NS8gObfh2Odh"
      },
      "source": [
        "c) Complex (complex)\n",
        "\n",
        "*   Used for complex numbers (numbers with a real and imaginary part).\n",
        "*   Example: 3 + 4j\n",
        "\n"
      ]
    },
    {
      "cell_type": "code",
      "execution_count": null,
      "metadata": {
        "colab": {
          "base_uri": "https://localhost:8080/"
        },
        "id": "h3sO3C6o2Odj",
        "outputId": "47375cd2-c626-4af0-bbf8-97c82dd1e268"
      },
      "outputs": [
        {
          "output_type": "stream",
          "name": "stdout",
          "text": [
            "Type of z: <class 'complex'>\n",
            "Real part: 3.0\n",
            "Imaginary part: 4.0\n"
          ]
        }
      ],
      "source": [
        "# Example of complex\n",
        "z = 3 + 4j\n",
        "print(\"Type of z:\", type(z))\n",
        "print(\"Real part:\", z.real)\n",
        "print(\"Imaginary part:\", z.imag)\n"
      ]
    },
    {
      "cell_type": "markdown",
      "metadata": {
        "id": "24U4vdtcvq3B"
      },
      "source": [
        "## **2. Sequence Data Types**\n",
        "\n",
        "\n",
        "\n",
        "\n"
      ]
    },
    {
      "cell_type": "markdown",
      "metadata": {
        "id": "vQaDYY80vq3D"
      },
      "source": [
        "a) String (str)\n",
        "\n",
        "\n",
        "*   Used for text (a sequence of characters).\n",
        "*   Example: \"Hello\", 'Python'"
      ]
    },
    {
      "cell_type": "code",
      "execution_count": null,
      "metadata": {
        "colab": {
          "base_uri": "https://localhost:8080/"
        },
        "id": "PP7Co0rZvq3E",
        "outputId": "0bf8da0a-abd5-4fbb-ca1e-7b0fb6f94cca"
      },
      "outputs": [
        {
          "output_type": "stream",
          "name": "stdout",
          "text": [
            "Type of name: <class 'str'>\n",
            "Length of name: 6\n"
          ]
        }
      ],
      "source": [
        "# Example of string\n",
        "name = \"Python\"\n",
        "print(\"Type of name:\", type(name))\n",
        "print(\"Length of name:\", len(name))\n",
        "\n"
      ]
    },
    {
      "cell_type": "markdown",
      "metadata": {
        "id": "vt6N2t3Tvq3G"
      },
      "source": [
        "b) List (list)\n",
        "\n",
        "*   A mutable collection of ordered items.\n",
        "*   Example: [1, 2, 3], [\"apple\", \"banana\", \"cherry\"]\n",
        "\n"
      ]
    },
    {
      "cell_type": "code",
      "execution_count": null,
      "metadata": {
        "id": "2Ar2tvHjvq3G",
        "colab": {
          "base_uri": "https://localhost:8080/"
        },
        "outputId": "0983c4a1-12ed-4ad4-99cd-f4df41160cc2"
      },
      "outputs": [
        {
          "output_type": "stream",
          "name": "stdout",
          "text": [
            "Type of fruits: <class 'list'>\n",
            "First fruit: apple\n"
          ]
        }
      ],
      "source": [
        "# Example of list\n",
        "fruits = [\"apple\", \"banana\", \"cherry\"]\n",
        "print(\"Type of fruits:\", type(fruits))\n",
        "print(\"First fruit:\", fruits[0])\n"
      ]
    },
    {
      "cell_type": "markdown",
      "metadata": {
        "id": "c5NfbtVmvq3H"
      },
      "source": [
        "c) Tuple (tuple)\n",
        "\n",
        "*   An immutable collection of ordered items.\n",
        "*   Example: (1, 2, 3), (\"a\", \"b\", \"c\")\n",
        "\n"
      ]
    },
    {
      "cell_type": "code",
      "execution_count": null,
      "metadata": {
        "colab": {
          "base_uri": "https://localhost:8080/"
        },
        "id": "tV-IobPzvq3I",
        "outputId": "8b7b124c-fec4-42fd-972a-c67cfbbe8d7d"
      },
      "outputs": [
        {
          "output_type": "stream",
          "name": "stdout",
          "text": [
            "Type of colors: <class 'tuple'>\n",
            "First color: red\n"
          ]
        }
      ],
      "source": [
        "# Example of tuple\n",
        "colors = (\"red\", \"green\", \"blue\")\n",
        "print(\"Type of colors:\", type(colors))\n",
        "print(\"First color:\", colors[0])\n"
      ]
    },
    {
      "cell_type": "markdown",
      "metadata": {
        "id": "226ICCdozrQa"
      },
      "source": [
        "d) Range (range)\n",
        "\n",
        "*   Represents a sequence of numbers, often used in loops.\n",
        "*   Example: range(0, 10)\n",
        "\n"
      ]
    },
    {
      "cell_type": "code",
      "execution_count": null,
      "metadata": {
        "id": "znYSPK0nzzQn",
        "colab": {
          "base_uri": "https://localhost:8080/"
        },
        "outputId": "40c8b8ba-3395-42bd-a47c-5ab1df9ee90b"
      },
      "outputs": [
        {
          "output_type": "stream",
          "name": "stdout",
          "text": [
            "Type of numbers: <class 'range'>\n",
            "List of numbers: [0, 1, 2, 3, 4]\n"
          ]
        }
      ],
      "source": [
        "# Example of range\n",
        "numbers = range(5)\n",
        "print(\"Type of numbers:\", type(numbers))\n",
        "print(\"List of numbers:\", list(numbers))\n"
      ]
    },
    {
      "cell_type": "markdown",
      "metadata": {
        "id": "9-mjRshB0bxk"
      },
      "source": [
        "## **3. Mapping Data Type**\n",
        "\n",
        "\n",
        "\n",
        "\n"
      ]
    },
    {
      "cell_type": "markdown",
      "metadata": {
        "id": "l1TlMegK0bxm"
      },
      "source": [
        "a) Dictionary (dict)\n",
        "\n",
        "\n",
        "*   A collection of key-value pairs.\n",
        "*   Example: {\"name\": \"Alice\", \"age\": 25}"
      ]
    },
    {
      "cell_type": "code",
      "execution_count": null,
      "metadata": {
        "colab": {
          "base_uri": "https://localhost:8080/"
        },
        "id": "7pY2x_St0bxn",
        "outputId": "fffded9b-a244-46e7-d37d-35a15e97f6f5"
      },
      "outputs": [
        {
          "output_type": "stream",
          "name": "stdout",
          "text": [
            "{'name': 'Alice', 'age': 25}\n"
          ]
        }
      ],
      "source": [
        "# Example of dictionary\n",
        "person = {\"name\": \"Alice\", \"age\": 25}\n",
        "print(person)\n"
      ]
    },
    {
      "cell_type": "markdown",
      "metadata": {
        "id": "FrSJ-FBn08yR"
      },
      "source": [
        "## **4. Set Data Types**\n",
        "\n",
        "\n",
        "\n",
        "\n"
      ]
    },
    {
      "cell_type": "markdown",
      "metadata": {
        "id": "JWN9SUzQ08yT"
      },
      "source": [
        "a) Set (set)\n",
        "\n",
        "\n",
        "*   A collection of unique, unordered items.\n",
        "*   Example: {1, 2, 3}"
      ]
    },
    {
      "cell_type": "code",
      "execution_count": null,
      "metadata": {
        "colab": {
          "base_uri": "https://localhost:8080/"
        },
        "id": "wCLcA8EG08yU",
        "outputId": "b56f44a9-f39a-4cc5-f6e7-efe166e04664"
      },
      "outputs": [
        {
          "output_type": "stream",
          "name": "stdout",
          "text": [
            "Type of unique_numbers: <class 'set'>\n",
            "Unique items: {1, 2, 3}\n"
          ]
        }
      ],
      "source": [
        "# Example of set\n",
        "unique_numbers = {1, 2, 3, 3}\n",
        "print(\"Type of unique_numbers:\", type(unique_numbers))\n",
        "print(\"Unique items:\", unique_numbers)\n"
      ]
    },
    {
      "cell_type": "markdown",
      "metadata": {
        "id": "bZUvFD7E1OIc"
      },
      "source": [
        "b) Frozen Set (frozenset)\n",
        "\n",
        "*   An immutable version of a set.\n",
        "\n"
      ]
    },
    {
      "cell_type": "code",
      "execution_count": null,
      "metadata": {
        "id": "1-zsXdfF1NNI",
        "colab": {
          "base_uri": "https://localhost:8080/"
        },
        "outputId": "601ad19c-02db-4235-f7e7-f31757788deb"
      },
      "outputs": [
        {
          "output_type": "stream",
          "name": "stdout",
          "text": [
            "Type of frozen: <class 'frozenset'>\n"
          ]
        }
      ],
      "source": [
        "# Example of frozenset\n",
        "frozen = frozenset([1, 2, 3])\n",
        "print(\"Type of frozen:\", type(frozen))\n"
      ]
    },
    {
      "cell_type": "markdown",
      "metadata": {
        "id": "eQz3vbru1dg2"
      },
      "source": [
        "## **5. Boolean Data Type**\n",
        "\n",
        "\n",
        "\n",
        "\n"
      ]
    },
    {
      "cell_type": "markdown",
      "metadata": {
        "id": "sdDguWWN1dhQ"
      },
      "source": [
        "a) Boolean (bool)\n",
        "\n",
        "\n",
        "*   Represents True or False."
      ]
    },
    {
      "cell_type": "code",
      "execution_count": null,
      "metadata": {
        "colab": {
          "base_uri": "https://localhost:8080/"
        },
        "id": "0fVXxv6r1dhR",
        "outputId": "c2c1f639-d9da-406c-b2ca-057a5df9583b"
      },
      "outputs": [
        {
          "output_type": "stream",
          "name": "stdout",
          "text": [
            "Type of is_active: <class 'bool'>\n"
          ]
        }
      ],
      "source": [
        "# Example of boolean\n",
        "is_active = True\n",
        "print(\"Type of is_active:\", type(is_active))\n"
      ]
    },
    {
      "cell_type": "markdown",
      "metadata": {
        "id": "1c3RLStf7G2I"
      },
      "source": [
        "## Strings"
      ]
    },
    {
      "cell_type": "markdown",
      "metadata": {
        "id": "Jm6hZhgz7KhI"
      },
      "source": [
        "Strings are used to store text. They can delimited using either single quotes or double quotes"
      ]
    },
    {
      "cell_type": "code",
      "execution_count": null,
      "metadata": {
        "id": "cCma6Oj_7T8n"
      },
      "outputs": [],
      "source": [
        "string1 = \"some text\"\n",
        "string2 = 'some other text'"
      ]
    },
    {
      "cell_type": "markdown",
      "metadata": {
        "id": "Irr4xuWu7Znu"
      },
      "source": [
        "Strings behave similarly to lists. As such we can access individual elements in exactly the same way"
      ]
    },
    {
      "cell_type": "code",
      "execution_count": null,
      "metadata": {
        "colab": {
          "base_uri": "https://localhost:8080/",
          "height": 36
        },
        "id": "26_POhLO7iM3",
        "outputId": "6d2cc949-6373-4adf-e5b1-253600faa2f8"
      },
      "outputs": [
        {
          "output_type": "execute_result",
          "data": {
            "text/plain": [
              "'e'"
            ],
            "application/vnd.google.colaboratory.intrinsic+json": {
              "type": "string"
            }
          },
          "metadata": {},
          "execution_count": 19
        }
      ],
      "source": [
        "string1[3]"
      ]
    },
    {
      "cell_type": "markdown",
      "metadata": {
        "id": "oA_UD0JV7oPw"
      },
      "source": [
        "and similarly for slices"
      ]
    },
    {
      "cell_type": "code",
      "execution_count": null,
      "metadata": {
        "colab": {
          "base_uri": "https://localhost:8080/",
          "height": 36
        },
        "id": "dcZFcLqQ7qCe",
        "outputId": "0e791041-79c7-47e9-ef90-fe9a0c7ec363"
      },
      "outputs": [
        {
          "output_type": "execute_result",
          "data": {
            "text/plain": [
              "'text'"
            ],
            "application/vnd.google.colaboratory.intrinsic+json": {
              "type": "string"
            }
          },
          "metadata": {},
          "execution_count": 20
        }
      ],
      "source": [
        "string1[5:]"
      ]
    },
    {
      "cell_type": "markdown",
      "metadata": {
        "id": "hOQ_CIiu76YG"
      },
      "source": [
        "String concatenation is performed using the `+` operator"
      ]
    },
    {
      "cell_type": "code",
      "execution_count": null,
      "metadata": {
        "colab": {
          "base_uri": "https://localhost:8080/",
          "height": 36
        },
        "id": "mxqNMKCY79_W",
        "outputId": "23c2b736-1554-4591-b358-a4e87036c516"
      },
      "outputs": [
        {
          "output_type": "execute_result",
          "data": {
            "text/plain": [
              "'some text some other text'"
            ],
            "application/vnd.google.colaboratory.intrinsic+json": {
              "type": "string"
            }
          },
          "metadata": {},
          "execution_count": 21
        }
      ],
      "source": [
        "string1 + \" \" + string2"
      ]
    },
    {
      "cell_type": "markdown",
      "metadata": {
        "id": "7Lox2GZCMdIB"
      },
      "source": [
        "## Conditionals"
      ]
    },
    {
      "cell_type": "markdown",
      "metadata": {
        "id": "-gXEAWFZfDTT"
      },
      "source": [
        "As their name indicates, conditionals are a way to execute code depending on whether a condition is True or False. As in other languages, Python supports `if` and `else` but `else if` is contracted into `elif`, as the example below demonstrates."
      ]
    },
    {
      "cell_type": "code",
      "execution_count": null,
      "metadata": {
        "colab": {
          "base_uri": "https://localhost:8080/"
        },
        "id": "xC_DMZjofoYZ",
        "outputId": "33ac8ce4-2fcf-42de-ed16-42146ef577c9"
      },
      "outputs": [
        {
          "output_type": "stream",
          "name": "stdout",
          "text": [
            "positive\n"
          ]
        }
      ],
      "source": [
        "my_variable = 5\n",
        "if my_variable < 0:\n",
        "  print(\"negative\")\n",
        "elif my_variable == 0:\n",
        "  print(\"null\")\n",
        "else: # my_variable > 0\n",
        "  print(\"positive\")"
      ]
    },
    {
      "cell_type": "markdown",
      "metadata": {
        "id": "Ag0SUokSf9jl"
      },
      "source": [
        "Here `<` and `>` are the strict `less` and `greater than` operators, while `==` is the equality operator (not to be confused with `=`, the variable assignment operator). The operators `<=` and `>=` can be used for less (resp. greater) than or equal comparisons."
      ]
    },
    {
      "cell_type": "markdown",
      "metadata": {
        "id": "qTkQ2F_jy8wz"
      },
      "source": [
        "Contrary to other languages, blocks of code are delimited using indentation. Here, we use 2-space indentation but many programmers also use 4-space indentation. Any one is fine as long as you are consistent throughout your code."
      ]
    },
    {
      "cell_type": "markdown",
      "metadata": {
        "id": "clWaFCzBMfkv"
      },
      "source": [
        "## Loops"
      ]
    },
    {
      "cell_type": "markdown",
      "metadata": {
        "id": "_A5doqhTivWe"
      },
      "source": [
        "Loops are a way to execute a block of code multiple times. There are two main types of loops: while loops and for loops."
      ]
    },
    {
      "cell_type": "markdown",
      "metadata": {
        "id": "YN8lwTxQkGEa"
      },
      "source": [
        "While loop"
      ]
    },
    {
      "cell_type": "code",
      "execution_count": null,
      "metadata": {
        "id": "8zT4BeiQ0Jpm"
      },
      "outputs": [],
      "source": [
        "my_list=[\"apple\", \"banana\", \"cherry\"]"
      ]
    },
    {
      "cell_type": "code",
      "execution_count": null,
      "metadata": {
        "colab": {
          "base_uri": "https://localhost:8080/"
        },
        "id": "7-QXGqgOjsr_",
        "outputId": "3a52ce85-1e91-4667-a7f7-78138920b7b5"
      },
      "outputs": [
        {
          "output_type": "stream",
          "name": "stdout",
          "text": [
            "apple\n",
            "banana\n",
            "cherry\n"
          ]
        }
      ],
      "source": [
        "i = 0\n",
        "while i < len(my_list):\n",
        "  print(my_list[i])\n",
        "  i += 1 # equivalent to i = i + 1"
      ]
    },
    {
      "cell_type": "markdown",
      "metadata": {
        "id": "8mEI_ocfkSvZ"
      },
      "source": [
        "For loop"
      ]
    },
    {
      "cell_type": "code",
      "execution_count": null,
      "metadata": {
        "colab": {
          "base_uri": "https://localhost:8080/"
        },
        "id": "2QObx5mckMcI",
        "outputId": "35495bdd-c936-442d-d1a7-bd258275b56e"
      },
      "outputs": [
        {
          "output_type": "stream",
          "name": "stdout",
          "text": [
            "apple\n",
            "banana\n",
            "cherry\n"
          ]
        }
      ],
      "source": [
        "for i in range(len(my_list)):\n",
        "  print(my_list[i])"
      ]
    },
    {
      "cell_type": "markdown",
      "metadata": {
        "id": "XO6qqppikZvm"
      },
      "source": [
        "If the goal is simply to iterate over a list, we can do so directly as follows"
      ]
    },
    {
      "cell_type": "code",
      "execution_count": null,
      "metadata": {
        "colab": {
          "base_uri": "https://localhost:8080/"
        },
        "id": "PjFKzN6zkeJ7",
        "outputId": "218fbd0f-f098-4828-dce2-377ffe164f5b"
      },
      "outputs": [
        {
          "output_type": "stream",
          "name": "stdout",
          "text": [
            "apple\n",
            "banana\n",
            "cherry\n"
          ]
        }
      ],
      "source": [
        "for element in my_list:\n",
        "  print(element)"
      ]
    },
    {
      "cell_type": "markdown",
      "metadata": {
        "id": "Cck4zwYrex02"
      },
      "source": [
        "## Functions"
      ]
    },
    {
      "cell_type": "markdown",
      "metadata": {
        "id": "n1PbIf_ohxFO"
      },
      "source": [
        "To improve code readability, it is common to separate the code into different blocks, responsible for performing precise actions: functions. A function takes some inputs and process them to return some outputs."
      ]
    },
    {
      "cell_type": "code",
      "execution_count": null,
      "metadata": {
        "colab": {
          "base_uri": "https://localhost:8080/"
        },
        "id": "cImA09gOhRmx",
        "outputId": "8c0e9a34-bc32-4993-d181-79d694379d67"
      },
      "outputs": [
        {
          "output_type": "execute_result",
          "data": {
            "text/plain": [
              "36"
            ]
          },
          "metadata": {},
          "execution_count": 24
        }
      ],
      "source": [
        "def square(x):\n",
        "  return x ** 2\n",
        "\n",
        "def multiply(a, b):\n",
        "  return a * b\n",
        "\n",
        "# Functions can be composed.\n",
        "square(multiply(3, 2))"
      ]
    },
    {
      "cell_type": "markdown",
      "metadata": {
        "id": "75-5SOk9iYSt"
      },
      "source": [
        "To improve code readability, it is sometimes useful to explicitly name the arguments"
      ]
    },
    {
      "cell_type": "markdown",
      "metadata": {
        "id": "gszosquda7b9"
      },
      "source": [
        "# Introduction to Classes in Python"
      ]
    },
    {
      "cell_type": "markdown",
      "metadata": {
        "id": "2BOewZLca7cA"
      },
      "source": [
        "Classes are the foundation of object-oriented programming (OOP). They act as blueprints for creating objects, which are instances of a class. Classes encapsulate data (attributes) and the functions (methods) that operate on that data.\n",
        "\n",
        "## Key Concepts:\n",
        "\n",
        "*   **Class:** A blueprint or template for creating objects.\n",
        "*   **Object:** An instance of a class. You can create multiple objects from the same class.\n",
        "*   **Attribute:** A variable that holds data associated with an object.\n",
        "*   **Method:** A function that is associated with an object and can operate on its attributes.\n",
        "*   **`__init__` method:** The constructor. It's called automatically when you create an object of the class. It's used to initialize the object's attributes.\n",
        "*   **`self`:** A reference to the current instance of the class. It's used to access the object's attributes and methods within the class definition."
      ]
    },
    {
      "cell_type": "markdown",
      "metadata": {
        "id": "4o3g0HfLa7cB"
      },
      "source": [
        "## 1. Defining a Simple Class"
      ]
    },
    {
      "cell_type": "code",
      "execution_count": null,
      "metadata": {
        "id": "KiHd0-zwa7cB"
      },
      "outputs": [],
      "source": [
        "# Define a class named 'Dog'\n",
        "class Dog:\n",
        "    # Constructor to initialize attributes\n",
        "    def __init__(self, name, breed):\n",
        "        self.name = name\n",
        "        self.breed = breed\n",
        "\n",
        "    # Method to make the dog bark\n",
        "    def bark(self):\n",
        "        print(\"Woof!\")"
      ]
    },
    {
      "cell_type": "markdown",
      "metadata": {
        "id": "tXpGF1T8a7cC"
      },
      "source": [
        "## 2. Creating Objects (Instances)"
      ]
    },
    {
      "cell_type": "code",
      "execution_count": null,
      "metadata": {
        "id": "kQazN-ysa7cC",
        "colab": {
          "base_uri": "https://localhost:8080/",
          "height": 193
        },
        "outputId": "aa19f97e-47a8-4fc0-a5f8-bbad4bec6521"
      },
      "outputs": [
        {
          "output_type": "error",
          "ename": "NameError",
          "evalue": "name 'dog' is not defined",
          "traceback": [
            "\u001b[0;31m---------------------------------------------------------------------------\u001b[0m",
            "\u001b[0;31mNameError\u001b[0m                                 Traceback (most recent call last)",
            "\u001b[0;32m<ipython-input-27-2419fadf4329>\u001b[0m in \u001b[0;36m<cell line: 0>\u001b[0;34m()\u001b[0m\n\u001b[1;32m      1\u001b[0m \u001b[0;31m#dogreabuddyo Dog objects\u001b[0m\u001b[0;34m\u001b[0m\u001b[0;34m\u001b[0m\u001b[0m\n\u001b[0;32m----> 2\u001b[0;31m \u001b[0mDog1\u001b[0m \u001b[0;34m=\u001b[0m \u001b[0mdog\u001b[0m\u001b[0;34m(\u001b[0m\u001b[0;34m\"buddy\"\u001b[0m\u001b[0;34m,\u001b[0m \u001b[0;34m\"persian\"\u001b[0m\u001b[0;34m)\u001b[0m\u001b[0;34m\u001b[0m\u001b[0;34m\u001b[0m\u001b[0m\n\u001b[0m\u001b[1;32m      3\u001b[0m \u001b[0;34m\u001b[0m\u001b[0m\n\u001b[1;32m      4\u001b[0m \u001b[0mdog2\u001b[0m \u001b[0;34m=\u001b[0m \u001b[0mdog\u001b[0m\u001b[0;34m(\u001b[0m\u001b[0;34m\"yuji\"\u001b[0m\u001b[0;34m,\u001b[0m \u001b[0;34m\"tabby\"\u001b[0m\u001b[0;34m)\u001b[0m\u001b[0;34m\u001b[0m\u001b[0;34m\u001b[0m\u001b[0m\n",
            "\u001b[0;31mNameError\u001b[0m: name 'dog' is not defined"
          ]
        }
      ],
      "source": [
        "#dogreabuddyo Dog objects\n",
        "Dog1 = dog(\"buddy\", \"persian\")\n",
        "\n",
        "dog2 = dog(\"yuji\", \"tabby\")"
      ]
    },
    {
      "cell_type": "markdown",
      "metadata": {
        "id": "S_GIXrnXa7cC"
      },
      "source": [
        "## 3. Accessing Attributes and Methods"
      ]
    },
    {
      "cell_type": "code",
      "execution_count": null,
      "metadata": {
        "id": "1og4J8jwa7cD",
        "colab": {
          "base_uri": "https://localhost:8080/",
          "height": 211
        },
        "outputId": "cb8007f4-f44b-40b5-81a2-e1854e9466c6"
      },
      "outputs": [
        {
          "output_type": "error",
          "ename": "NameError",
          "evalue": "name 'dog1' is not defined",
          "traceback": [
            "\u001b[0;31m---------------------------------------------------------------------------\u001b[0m",
            "\u001b[0;31mNameError\u001b[0m                                 Traceback (most recent call last)",
            "\u001b[0;32m<ipython-input-28-855cc08a90ba>\u001b[0m in \u001b[0;36m<cell line: 0>\u001b[0;34m()\u001b[0m\n\u001b[1;32m      1\u001b[0m \u001b[0;31m# Access attributes using dot notation\u001b[0m\u001b[0;34m\u001b[0m\u001b[0;34m\u001b[0m\u001b[0m\n\u001b[0;32m----> 2\u001b[0;31m \u001b[0mprint\u001b[0m\u001b[0;34m(\u001b[0m\u001b[0mdog1\u001b[0m\u001b[0;34m.\u001b[0m\u001b[0mname\u001b[0m\u001b[0;34m)\u001b[0m\u001b[0;34m\u001b[0m\u001b[0;34m\u001b[0m\u001b[0m\n\u001b[0m\u001b[1;32m      3\u001b[0m \u001b[0mprint\u001b[0m\u001b[0;34m(\u001b[0m\u001b[0mdog2\u001b[0m\u001b[0;34m.\u001b[0m\u001b[0mbreed\u001b[0m\u001b[0;34m)\u001b[0m\u001b[0;34m\u001b[0m\u001b[0;34m\u001b[0m\u001b[0m\n\u001b[1;32m      4\u001b[0m \u001b[0;34m\u001b[0m\u001b[0m\n\u001b[1;32m      5\u001b[0m \u001b[0;31m# Call methods\u001b[0m\u001b[0;34m\u001b[0m\u001b[0;34m\u001b[0m\u001b[0m\n",
            "\u001b[0;31mNameError\u001b[0m: name 'dog1' is not defined"
          ]
        }
      ],
      "source": [
        "# Access attributes using dot notation\n",
        "print(dog1.name)\n",
        "print(dog2.breed)\n",
        "\n",
        "# Call methods\n",
        "dog1.bark()\n",
        "dog2.bark()"
      ]
    },
    {
      "cell_type": "markdown",
      "metadata": {
        "id": "qpoQoS2Fa7cD"
      },
      "source": [
        "## 4. Example: A More Complex Class"
      ]
    },
    {
      "cell_type": "code",
      "execution_count": null,
      "metadata": {
        "id": "b4YhxU9ta7cD",
        "colab": {
          "base_uri": "https://localhost:8080/"
        },
        "outputId": "b1d86a2c-a8cf-4fba-90b3-f2aa2ba466f7"
      },
      "outputs": [
        {
          "output_type": "stream",
          "name": "stdout",
          "text": [
            "Area: 50\n",
            "Perimeter: 30\n",
            "Rectangle with width: 5, height: 10\n"
          ]
        }
      ],
      "source": [
        "class Rectangle:\n",
        "    def __init__(self, width, height):\n",
        "        self.width = width\n",
        "        self.height = height\n",
        "\n",
        "    def area(self):\n",
        "        return self.width * self.height\n",
        "\n",
        "    def perimeter(self):\n",
        "        return 2 * (self.width + self.height)\n",
        "\n",
        "    def describe(self):\n",
        "        print(f\"Rectangle with width: {self.width}, height: {self.height}\")\n",
        "\n",
        "# Create a Rectangle object\n",
        "rect = Rectangle(5, 10)\n",
        "\n",
        "# Access methods\n",
        "print(f\"Area: {rect.area()}\")\n",
        "print(f\"Perimeter: {rect.perimeter()}\")\n",
        "rect.describe()"
      ]
    },
    {
      "cell_type": "markdown",
      "metadata": {
        "id": "ueYhJYDva7cD"
      },
      "source": [
        "## Simplified Harry Potter Sorting Hat Project with Classes"
      ]
    },
    {
      "cell_type": "markdown",
      "metadata": {
        "id": "Jfqtr4vda7cE"
      },
      "source": [
        "Let's create a simplified version of our project using two classes:\n",
        "\n",
        "1. **`Character` Class:** Represents a character with a name and a house (initially None).\n",
        "2. **`SortingHat` Class:** Has a method to sort a character into a house."
      ]
    },
    {
      "cell_type": "code",
      "execution_count": null,
      "metadata": {
        "id": "32nmaXpGa7cE",
        "colab": {
          "base_uri": "https://localhost:8080/"
        },
        "outputId": "ae2bc431-4601-4dca-f5be-44ce6e61bcae"
      },
      "outputs": [
        {
          "output_type": "stream",
          "name": "stdout",
          "text": [
            "Harry Potter is sorted into Gryffindor!\n",
            "Hermione Granger is sorted into Gryffindor!\n",
            "Harry Potter from House Gryffindor\n",
            "Hermione Granger from House Gryffindor\n"
          ]
        }
      ],
      "source": [
        "import random\n",
        "\n",
        "class Character:\n",
        "    def __init__(self, name):\n",
        "        self.name = name\n",
        "        self.house = None  # Initially not sorted\n",
        "\n",
        "    def __str__(self):\n",
        "      return f\"{self.name} from House {self.house}\"\n",
        "\n",
        "class SortingHat:\n",
        "    def __init__(self, houses=None):\n",
        "        if houses is None:\n",
        "          houses = [\"Gryffindor\", \"Hufflepuff\", \"Ravenclaw\", \"Slytherin\"]\n",
        "        self.houses = houses\n",
        "\n",
        "    def sort(self, character):\n",
        "        character.house = random.choice(self.houses)\n",
        "        print(f\"{character.name} is sorted into {character.house}!\")\n",
        "\n",
        "# Example Usage:\n",
        "harry = Character(\"Harry Potter\")\n",
        "hermione = Character(\"Hermione Granger\")\n",
        "\n",
        "sorting_hat = SortingHat()\n",
        "sorting_hat.sort(harry)\n",
        "sorting_hat.sort(hermione)\n",
        "print(harry)\n",
        "print(hermione)"
      ]
    },
    {
      "cell_type": "markdown",
      "metadata": {
        "id": "HJODZzTUa7cE"
      },
      "source": [
        "This simplified example demonstrates how classes can be used to model real-world concepts (characters and a sorting hat) and their interactions. You can expand on this by adding more attributes (e.g., traits to characters), more methods (e.g., a method to determine house compatibility), and more complex logic."
      ]
    },
    {
      "cell_type": "markdown",
      "metadata": {
        "id": "krGyicJutkjG"
      },
      "source": [
        "# Time for a project!\n",
        "\n",
        "Using our knowledge, we'll be making our very own Pokemon game!"
      ]
    },
    {
      "cell_type": "markdown",
      "metadata": {
        "id": "qR2jpDEc1bs6"
      },
      "source": [
        "1. Pokémon Class\n",
        "Purpose: Represents a Pokémon with attributes like name, type, and health, and includes a method for attacking other Pokémon."
      ]
    },
    {
      "cell_type": "code",
      "execution_count": null,
      "metadata": {
        "id": "tpcV8dhR1jVv"
      },
      "outputs": [],
      "source": [
        "class Pokemon:\n",
        "    def __init__(self, name, type, health):\n",
        "        self.name = name\n",
        "        self.type = type\n",
        "        self.health = health\n",
        "    def attack(self, other_pokemon):\n",
        "        damage = 10  # Fixed damage for simplicity\n",
        "        print(f\"{self.name} attacks {other_pokemon.name}!\")\n",
        "        other_pokemon.health -= damage\n",
        "        if other_pokemon.health <= 0:\n",
        "            print(f\"{other_pokemon.name} fainted!\")\n",
        "        else:\n",
        "            print(f\"{other_pokemon.name} has {other_pokemon.health} health left.\")"
      ]
    },
    {
      "cell_type": "markdown",
      "metadata": {
        "id": "wLQpie1V1rVp"
      },
      "source": [
        "The __init__ method initializes the Pokémon's attributes:\n",
        "name: The name of the Pokémon.\n",
        "type: The type (e.g., Electric, Grass, Fire).\n",
        "health: The health points (HP) of the Pokémon.\n",
        "python\n",
        "Copy\n",
        "Edit\n"
      ]
    },
    {
      "cell_type": "markdown",
      "metadata": {
        "id": "I4dW7_ik1v8u"
      },
      "source": [
        "he attack method:\n",
        "Reduces the health of the target Pokémon (other_pokemon) by a fixed damage of 10.\n",
        "Prints an attack message."
      ]
    },
    {
      "cell_type": "markdown",
      "metadata": {
        "id": "n8Nb7cAG10Zc"
      },
      "source": [
        "Checks if the opponent's health is 0 or below:\n",
        "If so, prints that the Pokémon fainted.\n",
        "Otherwise, displays the remaining health.\n"
      ]
    },
    {
      "cell_type": "markdown",
      "metadata": {
        "id": "BF-7NBKN16Zd"
      },
      "source": [
        "2. Helper Function: display_pokemon_info\n",
        "Purpose: Displays the attributes of a Pokémon.\n",
        "\n",
        "\n"
      ]
    },
    {
      "cell_type": "code",
      "execution_count": null,
      "metadata": {
        "id": "eBygicPh2AAi"
      },
      "outputs": [],
      "source": [
        "def display_pokemon_info(pokemon):\n",
        "    print(f\"Name: {pokemon.name}\")\n",
        "    print(f\"Type: {pokemon.type}\")\n",
        "    print(f\"Health: {pokemon.health}\")\n"
      ]
    },
    {
      "cell_type": "markdown",
      "metadata": {
        "id": "DLzzzDdG2DDS"
      },
      "source": [
        "Prints the name, type, and health of a given Pokémon object."
      ]
    },
    {
      "cell_type": "markdown",
      "metadata": {
        "id": "Rpq2ZOel2Jkw"
      },
      "source": [
        "3. Pokémon List\n",
        "Purpose: A predefined list of Pokémon that can participate in battles."
      ]
    },
    {
      "cell_type": "code",
      "execution_count": null,
      "metadata": {
        "id": "G_XS8Bo72NJr"
      },
      "outputs": [],
      "source": [
        "pokemon_list = [\n",
        "    Pokemon(\"Pikachu\", \"Electric\", 100),\n",
        "    Pokemon(\"Bulbasaur\", \"Grass\", 90),\n",
        "    Pokemon(\"Charmander\", \"Fire\", 85)\n",
        "]\n"
      ]
    },
    {
      "cell_type": "markdown",
      "metadata": {
        "id": "hTlJ4RTt2PVZ"
      },
      "source": [
        "Three Pokémon are created with specific names, types, and health points.\n"
      ]
    },
    {
      "cell_type": "markdown",
      "metadata": {
        "id": "D_zDEVPQ2Ylu"
      },
      "source": [
        "4. Moves Tuple\n",
        "Purpose: Placeholder for Pokémon moves (not yet integrated into the logic)."
      ]
    },
    {
      "cell_type": "code",
      "execution_count": null,
      "metadata": {
        "id": "ruo1Hwuz2ZZR"
      },
      "outputs": [],
      "source": [
        "moves = (\"Thunderbolt\", \"Vine Whip\", \"Ember\")\n"
      ]
    },
    {
      "cell_type": "markdown",
      "metadata": {
        "id": "cZk-55Rv2c1j"
      },
      "source": [
        "5. Main Battle Logic\n",
        "Purpose: Simulates a battle between two Pokémon selected by the user."
      ]
    },
    {
      "cell_type": "code",
      "execution_count": null,
      "metadata": {
        "id": "yoEMW3G32h3U"
      },
      "outputs": [],
      "source": [
        "print(\"Choose your Pokémon:\")\n",
        "for i, pokemon in enumerate(pokemon_list):\n",
        "    print(f\"{i + 1}. {pokemon.name} ({pokemon.type})\")"
      ]
    },
    {
      "cell_type": "markdown",
      "metadata": {
        "id": "ueV7etQK2k1B"
      },
      "source": [
        "Displays the list of available Pokémon with an index for selection."
      ]
    },
    {
      "cell_type": "code",
      "execution_count": null,
      "metadata": {
        "id": "087ijf902np7"
      },
      "outputs": [],
      "source": [
        "choice_1 = int(input(\"Enter the number of your first Pokémon: \")) - 1\n",
        "choice_2 = int(input(\"Enter the number of your second Pokémon: \")) - 1\n"
      ]
    },
    {
      "cell_type": "markdown",
      "metadata": {
        "id": "SpZjxuye2tL4"
      },
      "source": [
        "Takes input from the user to select two Pokémon by their index."
      ]
    },
    {
      "cell_type": "code",
      "execution_count": null,
      "metadata": {
        "id": "WIMfoYxa2u1f"
      },
      "outputs": [],
      "source": [
        "player_pokemon = pokemon_list[choice_1]\n",
        "opponent_pokemon = pokemon_list[choice_2]\n"
      ]
    },
    {
      "cell_type": "markdown",
      "metadata": {
        "id": "Lm8U0OoK2zaE"
      },
      "source": [
        "Assigns the chosen Pokémon to player_pokemon and opponent_pokemon."
      ]
    },
    {
      "cell_type": "markdown",
      "metadata": {
        "id": "Z2s_nmGc20xT"
      },
      "source": [
        "6. Battle Loop\n",
        "Purpose: Alternates attacks between the player's and opponent's Pokémon until one faints.\n",
        "\n",
        "\n"
      ]
    },
    {
      "cell_type": "code",
      "execution_count": null,
      "metadata": {
        "id": "JZJ3pGWi27XA"
      },
      "outputs": [],
      "source": [
        "while player_pokemon.health > 0 and opponent_pokemon.health > 0:\n",
        "    print(f\"\\n{player_pokemon.name}'s turn:\")\n",
        "    player_pokemon.attack(opponent_pokemon)\n",
        "\n",
        "    if opponent_pokemon.health <= 0:\n",
        "        break\n",
        "\n",
        "    print(f\"\\n{opponent_pokemon.name}'s turn:\")\n",
        "    opponent_pokemon.attack(player_pokemon)\n"
      ]
    },
    {
      "cell_type": "markdown",
      "metadata": {
        "id": "4hOVPnWj3B2q"
      },
      "source": [
        "Each Pokémon takes turns attacking.\n",
        "If a Pokémon's health drops to 0 or below, the loop ends.\n"
      ]
    },
    {
      "cell_type": "markdown",
      "metadata": {
        "id": "uyrd8iYs3GzY"
      },
      "source": [
        "7. Battle Result\n",
        "Purpose: Displays the winner of the battle."
      ]
    },
    {
      "cell_type": "code",
      "execution_count": null,
      "metadata": {
        "id": "73sB0vFG3Hwe"
      },
      "outputs": [],
      "source": [
        "print(\"\\nBattle Over!\")\n",
        "if player_pokemon.health > 0:\n",
        "    print(f\"{player_pokemon.name} wins!\")\n",
        "elif opponent_pokemon.health > 0:\n",
        "    print(f\"{opponent_pokemon.name} wins!\")\n",
        "else:\n",
        "    print(\"It's a draw!\")\n"
      ]
    },
    {
      "cell_type": "markdown",
      "metadata": {
        "id": "odqmZFjD3J3s"
      },
      "source": [
        "Determines and prints the winner based on the remaining health of the Pokémon."
      ]
    },
    {
      "cell_type": "markdown",
      "metadata": {
        "id": "RdquK_u63eSD"
      },
      "source": [
        "How It Works:\n",
        " 1. The user selects two Pokémon from the list.\n",
        " 2. A battle starts, with each Pokémon attacking in turn.\n",
        " 3. Each attack reduces the opponent's health by 10.\n",
        " 4. The battle ends when one Pokémon faints, and the winner is announced.\n"
      ]
    }
  ],
  "metadata": {
    "colab": {
      "provenance": [],
      "include_colab_link": true
    },
    "kernelspec": {
      "display_name": "Python 3",
      "name": "python3"
    }
  },
  "nbformat": 4,
  "nbformat_minor": 0
}